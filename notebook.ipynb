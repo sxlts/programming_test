{
 "cells": [
  {
   "cell_type": "code",
   "execution_count": null,
   "id": "69eacb4d",
   "metadata": {},
   "outputs": [],
   "source": [
    "import subprocess\n",
    "import csv\n",
    "import matplotlib.pyplot as plt"
   ]
  },
  {
   "cell_type": "code",
   "execution_count": null,
   "id": "d1487750",
   "metadata": {},
   "outputs": [],
   "source": [
    "Brand_Factor = 2.1\n",
    "Years = 15"
   ]
  },
  {
   "cell_type": "code",
   "execution_count": null,
   "id": "704284ec",
   "metadata": {},
   "outputs": [],
   "source": []
  },
  {
   "cell_type": "code",
   "execution_count": null,
   "id": "b638907e",
   "metadata": {},
   "outputs": [],
   "source": [
    "subprocess.run([\"./cpp\", \" {}\".format(Brand_Factor), \" {}\".format(Years)])"
   ]
  },
  {
   "cell_type": "code",
   "execution_count": null,
   "id": "8d3818c6",
   "metadata": {},
   "outputs": [],
   "source": []
  },
  {
   "cell_type": "code",
   "execution_count": null,
   "id": "e2bb839b",
   "metadata": {},
   "outputs": [],
   "source": [
    "file = open('ModelOutput.csv')\n",
    "csvreader = csv.reader(file)"
   ]
  },
  {
   "cell_type": "code",
   "execution_count": null,
   "id": "69b074a3",
   "metadata": {},
   "outputs": [],
   "source": [
    "header = []\n",
    "header = next(csvreader)"
   ]
  },
  {
   "cell_type": "code",
   "execution_count": null,
   "id": "4089d522",
   "metadata": {},
   "outputs": [],
   "source": [
    "rows = []\n",
    "for row in csvreader:\n",
    "    rows.append(row)"
   ]
  },
  {
   "cell_type": "code",
   "execution_count": null,
   "id": "09044133",
   "metadata": {},
   "outputs": [],
   "source": [
    "for i in range(len(header)):\n",
    "    plt.plot(range(1, Years + 1), [r[i] for r in rows])\n",
    "\n",
    "    plt.xlabel('Years')\n",
    "    plt.ylabel(header[i])\n",
    "    plt.show()"
   ]
  },
  {
   "cell_type": "code",
   "execution_count": null,
   "id": "413cb9f9",
   "metadata": {},
   "outputs": [],
   "source": []
  },
  {
   "cell_type": "code",
   "execution_count": null,
   "id": "430cb4ae",
   "metadata": {},
   "outputs": [],
   "source": []
  },
  {
   "cell_type": "code",
   "execution_count": null,
   "id": "4bce5882",
   "metadata": {},
   "outputs": [],
   "source": []
  }
 ],
 "metadata": {
  "kernelspec": {
   "display_name": "Python 3 (ipykernel)",
   "language": "python",
   "name": "python3"
  },
  "language_info": {
   "codemirror_mode": {
    "name": "ipython",
    "version": 3
   },
   "file_extension": ".py",
   "mimetype": "text/x-python",
   "name": "python",
   "nbconvert_exporter": "python",
   "pygments_lexer": "ipython3",
   "version": "3.8.10"
  }
 },
 "nbformat": 4,
 "nbformat_minor": 5
}
