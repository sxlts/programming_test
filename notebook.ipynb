{
 "cells": [
  {
   "cell_type": "code",
   "execution_count": null,
   "id": "69eacb4d",
   "metadata": {},
   "outputs": [],
   "source": [
    "import subprocess\n",
    "import csv\n",
    "import matplotlib.pyplot as plt\n",
    "import numpy as np"
   ]
  },
  {
   "cell_type": "code",
   "execution_count": null,
   "id": "d1487750",
   "metadata": {},
   "outputs": [],
   "source": [
    "Brand_Factor = 1.9\n",
    "Years = 15"
   ]
  },
  {
   "cell_type": "code",
   "execution_count": null,
   "id": "704284ec",
   "metadata": {},
   "outputs": [],
   "source": [
    "def BuildModel(brandFactor = Brand_Factor, printAll = True, printCAndNC = False, printLossGain = False):\n",
    "    subprocess.run([\"./cpp\", \" {}\".format(brandFactor), \" {}\".format(Years)], stdout=subprocess.DEVNULL)\n",
    "    \n",
    "    file = open('ModelOutput.csv')\n",
    "    csvreader = csv.reader(file)\n",
    "    \n",
    "    header = []\n",
    "    header = next(csvreader)\n",
    "\n",
    "    rows = []\n",
    "    for row in csvreader:\n",
    "        rows.append([int(i) for i in row])\n",
    "        \n",
    "    return [rows, header]"
   ]
  },
  {
   "cell_type": "code",
   "execution_count": null,
   "id": "91781678",
   "metadata": {},
   "outputs": [],
   "source": []
  },
  {
   "cell_type": "code",
   "execution_count": null,
   "id": "5f8ae77e",
   "metadata": {
    "scrolled": false
   },
   "outputs": [],
   "source": [
    "[rows, header] = BuildModel()\n",
    "\n",
    "for i in range (0, 5):\n",
    "    plt.plot(np.array(range(1, Years + 1)), np.array([r[i] for r in rows]))\n",
    "    plt.xlabel('Years')\n",
    "    plt.ylabel(\"{0}\".format(header[i]))\n",
    "    plt.show()"
   ]
  },
  {
   "cell_type": "code",
   "execution_count": null,
   "id": "8d3818c6",
   "metadata": {
    "scrolled": true
   },
   "outputs": [],
   "source": [
    "def ShowGeneralGraphForRow(rowi = 0, step = 0.5):\n",
    "    bfValues = np.arange(0.0, 3.0, step)\n",
    "    for brandFactorValue in bfValues:\n",
    "        [rows, header] = BuildModel(brandFactorValue)\n",
    "        plt.plot(np.array(range(1, Years + 1)), np.array([r[rowi] for r in rows]))\n",
    "\n",
    "    plt.xlabel('Years')\n",
    "    plt.ylabel(\"{0}\".format(header[rowi]))\n",
    "    plt.legend(np.arange(0.0, 3.0, 0.5))\n",
    "    plt.show()"
   ]
  },
  {
   "cell_type": "code",
   "execution_count": null,
   "id": "4e3e8325",
   "metadata": {},
   "outputs": [],
   "source": [
    "ShowGeneralGraphForRow(0)"
   ]
  },
  {
   "cell_type": "code",
   "execution_count": null,
   "id": "4bce5882",
   "metadata": {},
   "outputs": [],
   "source": [
    "ShowGeneralGraphForRow(1)"
   ]
  },
  {
   "cell_type": "code",
   "execution_count": null,
   "id": "b76f6cd3",
   "metadata": {},
   "outputs": [],
   "source": [
    "def ShowMeanGraphForRow(rowsi = [0], step = 0.5):\n",
    "    bfValues = np.arange(0.0, 3.0, step)\n",
    "    \n",
    "    for i in rowsi:\n",
    "        values = []\n",
    "        for brandFactorValue in bfValues:\n",
    "            [rows, header] = BuildModel(brandFactorValue)\n",
    "            values.append(np.mean(np.array([r[i] for r in rows])))        \n",
    "        plt.plot(bfValues, values)\n",
    "        \n",
    "    plt.xlabel('Brand_Factor')\n",
    "    plt.ylabel(\"mean\")\n",
    "    plt.legend(np.array([header[r] for r in rowsi]))\n",
    "    plt.show()"
   ]
  },
  {
   "cell_type": "code",
   "execution_count": null,
   "id": "35a2a82f",
   "metadata": {},
   "outputs": [],
   "source": [
    "ShowMeanGraphForRow([0, 1])"
   ]
  },
  {
   "cell_type": "code",
   "execution_count": null,
   "id": "a1763d45",
   "metadata": {},
   "outputs": [],
   "source": [
    "ShowMeanGraphForRow([2, 3, 4])"
   ]
  },
  {
   "cell_type": "code",
   "execution_count": null,
   "id": "a750509b",
   "metadata": {},
   "outputs": [],
   "source": []
  }
 ],
 "metadata": {
  "kernelspec": {
   "display_name": "Python 3 (ipykernel)",
   "language": "python",
   "name": "python3"
  },
  "language_info": {
   "codemirror_mode": {
    "name": "ipython",
    "version": 3
   },
   "file_extension": ".py",
   "mimetype": "text/x-python",
   "name": "python",
   "nbconvert_exporter": "python",
   "pygments_lexer": "ipython3",
   "version": "3.8.10"
  }
 },
 "nbformat": 4,
 "nbformat_minor": 5
}
